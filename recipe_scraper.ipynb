{
 "cells": [
  {
   "cell_type": "code",
   "execution_count": 70,
   "metadata": {},
   "outputs": [],
   "source": [
    "import urllib.request as req\n",
    "from bs4 import BeautifulSoup as soup\n",
    "import pandas as pd\n",
    "import sqlite3"
   ]
  },
  {
   "cell_type": "code",
   "execution_count": 71,
   "metadata": {},
   "outputs": [],
   "source": [
    "#using browser to scrape\n",
    "user_agent = 'Mozilla/5.0 (Windows; U; Windows NT 5.1; en-US; rv:1.9.0.7) Gecko/2009021910 Firefox/3.0.7'\n",
    "headers={'User-Agent':user_agent,} "
   ]
  },
  {
   "cell_type": "code",
   "execution_count": 72,
   "metadata": {},
   "outputs": [],
   "source": [
    "#url for main site\n",
    "main_url = \"https://cookieandkate.com/\"\n",
    "\n",
    "#getting main site page info\n",
    "request_main = req.Request(main_url, None, headers) #The assembled request\n",
    "response_main = req.urlopen(request_main)\n",
    "data_main = response_main.read()\n",
    "response_main.close()\n",
    "\n",
    "page_main = soup(data_main,\"html.parser\")"
   ]
  },
  {
   "cell_type": "code",
   "execution_count": 73,
   "metadata": {},
   "outputs": [],
   "source": [
    "#retrieving categories of recipes\n",
    "categories = page_main.find(\"nav\",{\"id\":\"genesis-nav-primary\"}).ul.findAll(\"li\")[2].findAll(\"li\")\n",
    "category_links = []\n",
    "for category in categories:\n",
    "    category_links.append(category.a[\"href\"])"
   ]
  },
  {
   "cell_type": "code",
   "execution_count": 74,
   "metadata": {},
   "outputs": [],
   "source": [
    "#a list for all recipe links\n",
    "recipe_links = []\n",
    "#a list that holds image links for each recipe\n",
    "img_links = []\n",
    "\n",
    "#looping through categories\n",
    "for category_url in category_links:\n",
    "    \n",
    "    #getting first page (of recipe thumbnails) for current category\n",
    "    category_request = req.Request(category_url, None, headers)\n",
    "    category_response = req.urlopen(category_request)\n",
    "    category_data = category_response.read()\n",
    "    category_response.close()\n",
    "\n",
    "    category_page = soup(category_data,\"html.parser\")\n",
    "    \n",
    "    while True:\n",
    "\n",
    "        #next page marker\n",
    "        next_marker = category_page.find(\"div\", {\"class\":\"pagination-next alignright\"})\n",
    "\n",
    "        #if there is a next page\n",
    "        if next_marker:\n",
    "\n",
    "            #get url for page\n",
    "            next_url = next_marker.a['href']\n",
    "\n",
    "            #read info from page\n",
    "            next_request = req.Request(next_url, None, headers)\n",
    "            next_response = req.urlopen(next_request)\n",
    "            next_data = next_response.read()\n",
    "            next_response.close()\n",
    "\n",
    "            #set category_page to new page\n",
    "            category_page = soup(next_data)\n",
    "\n",
    "            #collect all recipes from new page\n",
    "            recipes = category_page.findAll(\"div\",{\"class\":\"lcp_catlist_item\"})\n",
    "\n",
    "            #save the recipe links and image links\n",
    "            for recipe in recipes:\n",
    "                recipe_links.append(recipe.a[\"href\"])\n",
    "                img_links.append(recipe.find('img')['data-lazy-src'])\n",
    "\n",
    "        #if there are no new pages\n",
    "        else:\n",
    "            break"
   ]
  },
  {
   "cell_type": "code",
   "execution_count": 81,
   "metadata": {},
   "outputs": [],
   "source": [
    "recipe_info = []\n",
    "\n",
    "# looping through recipe links\n",
    "for new_url in recipe_links:\n",
    "\n",
    "    #getting corresponding image url\n",
    "    img_url = img_links[recipe_links.index(new_url)]\n",
    "    #dict for saving recipe info\n",
    "    recipe_dict = {}\n",
    "\n",
    "    #reading info from recipe page\n",
    "    new_request = req.Request(new_url,None,headers) #The assembled request\n",
    "    new_response = req.urlopen(new_request)\n",
    "    new_data = new_response.read()\n",
    "    new_response.close()\n",
    "\n",
    "    recipe_page = soup(new_data,\"html.parser\")\n",
    "\n",
    "    #getting objects that contain details, ratings, ingredients\n",
    "    recipe_details = recipe_page.find(\"div\",{\"class\":\"tasty-recipes-details\"})\n",
    "    recipe_ratings = recipe_page.find(\"div\",{\"class\":\"tasty-recipes-ratings\"})\n",
    "    recipe_ingredients = recipe_page.find(\"div\", {\"class\":\"tasty-recipe-ingredients\"})\n",
    "\n",
    "    #if details, ratings and ingredients are available\n",
    "    if recipe_details and recipe_ratings and recipe_ingredients:\n",
    "        #recipe name\n",
    "        recipe_dict[\"title\"] = recipe_page.h1.text\n",
    "        #recipe ingredients\n",
    "        recipe_dict[\"ingredients\"] = [x.text for x in recipe_ingredients.find('ul').findAll('li')]                 \n",
    "        #recipe ratings\n",
    "        recipe_dict[\"rating\"] = recipe_ratings.find(\"span\",{\"class\":\"average\"}).text\n",
    "\n",
    "        #recipe details - time, cuisine, category\n",
    "        try:\n",
    "            recipe_dict[\"time\"] = recipe_details.find(\"span\",{\"class\":\"tasty-recipes-total-time\"}).text\n",
    "        except:\n",
    "            recipe_dict[\"time\"] = None\n",
    "        \n",
    "        try:\n",
    "            recipe_dict[\"cuisine\"] = recipe_details.find(\"span\",{\"class\":\"tasty-recipes-cuisine\"}).text\n",
    "        except:\n",
    "            recipe_dict[\"cuisine\"] = None\n",
    "\n",
    "        try:\n",
    "            recipe_dict[\"category\"] = recipe_details.find(\"span\",{\"class\":\"tasty-recipes-category\"}).text\n",
    "        except:\n",
    "            recipe_dict[\"category\"] = None       \n",
    "        \n",
    "        #saving image and link\n",
    "        recipe_dict[\"url\"] = new_url\n",
    "        recipe_dict[\"img\"] = img_url\n",
    "\n",
    "        #adding dictionary of recipe info to list\n",
    "        recipe_info.append(recipe_dict)"
   ]
  },
  {
   "cell_type": "code",
   "execution_count": 82,
   "metadata": {},
   "outputs": [],
   "source": [
    "recipes_df = pd.DataFrame(recipe_info)"
   ]
  },
  {
   "cell_type": "code",
   "execution_count": 95,
   "metadata": {},
   "outputs": [],
   "source": [
    "recipes_df['ingredients'] = recipes_df['ingredients'].apply(lambda x: ' '.join(x))"
   ]
  },
  {
   "cell_type": "code",
   "execution_count": 96,
   "metadata": {},
   "outputs": [],
   "source": [
    "recipes_df[\"rating\"] = recipes_df[\"rating\"].astype(\"float\")\n",
    "recipes_df.drop_duplicates(subset=\"title\",inplace=True)"
   ]
  },
  {
   "cell_type": "markdown",
   "metadata": {},
   "source": [
    "Recipes for a Mexican main dish with a rating of 4.5 stars or higher "
   ]
  },
  {
   "cell_type": "code",
   "execution_count": 97,
   "metadata": {
    "scrolled": true
   },
   "outputs": [
    {
     "output_type": "execute_result",
     "data": {
      "text/plain": "                                                 title  \\\n455  Fresh Arugula and Black Bean Tacos with Pickle...   \n526                    Chipotle-Glazed Delicata Squash   \n57    Crispy Mushroom, Spinach and Avocado Quesadillas   \n\n                                           ingredients  rating  \\\n455  3 tablespoons olive oil 3 tablespoons fresh li...     5.0   \n526  3 delicata squash, sliced in half lengthwise, ...     5.0   \n57   1 tablespoon olive oil ½ red onion, chopped sa...     4.9   \n\n                  time  cuisine category  \\\n455         30 minutes  Mexican     Main   \n526  1 hour 15 minutes  Mexican     Main   \n57          20 minutes  Mexican     Main   \n\n                                                   url  \\\n455  https://cookieandkate.com/fresh-arugula-and-bl...   \n526  https://cookieandkate.com/chipotle-glazed-squash/   \n57   https://cookieandkate.com/crispy-mushroom-spin...   \n\n                                                   img  \n455  https://cookieandkate.com/images/2014/06/fresh...  \n526  https://cookieandkate.com/images/2012/02/chipo...  \n57   https://cookieandkate.com/images/2013/01/crisp...  ",
      "text/html": "<div>\n<style scoped>\n    .dataframe tbody tr th:only-of-type {\n        vertical-align: middle;\n    }\n\n    .dataframe tbody tr th {\n        vertical-align: top;\n    }\n\n    .dataframe thead th {\n        text-align: right;\n    }\n</style>\n<table border=\"1\" class=\"dataframe\">\n  <thead>\n    <tr style=\"text-align: right;\">\n      <th></th>\n      <th>title</th>\n      <th>ingredients</th>\n      <th>rating</th>\n      <th>time</th>\n      <th>cuisine</th>\n      <th>category</th>\n      <th>url</th>\n      <th>img</th>\n    </tr>\n  </thead>\n  <tbody>\n    <tr>\n      <th>455</th>\n      <td>Fresh Arugula and Black Bean Tacos with Pickle...</td>\n      <td>3 tablespoons olive oil 3 tablespoons fresh li...</td>\n      <td>5.0</td>\n      <td>30 minutes</td>\n      <td>Mexican</td>\n      <td>Main</td>\n      <td>https://cookieandkate.com/fresh-arugula-and-bl...</td>\n      <td>https://cookieandkate.com/images/2014/06/fresh...</td>\n    </tr>\n    <tr>\n      <th>526</th>\n      <td>Chipotle-Glazed Delicata Squash</td>\n      <td>3 delicata squash, sliced in half lengthwise, ...</td>\n      <td>5.0</td>\n      <td>1 hour 15 minutes</td>\n      <td>Mexican</td>\n      <td>Main</td>\n      <td>https://cookieandkate.com/chipotle-glazed-squash/</td>\n      <td>https://cookieandkate.com/images/2012/02/chipo...</td>\n    </tr>\n    <tr>\n      <th>57</th>\n      <td>Crispy Mushroom, Spinach and Avocado Quesadillas</td>\n      <td>1 tablespoon olive oil ½ red onion, chopped sa...</td>\n      <td>4.9</td>\n      <td>20 minutes</td>\n      <td>Mexican</td>\n      <td>Main</td>\n      <td>https://cookieandkate.com/crispy-mushroom-spin...</td>\n      <td>https://cookieandkate.com/images/2013/01/crisp...</td>\n    </tr>\n  </tbody>\n</table>\n</div>"
     },
     "metadata": {},
     "execution_count": 97
    }
   ],
   "source": [
    "recipes_df[(recipes_df[\"cuisine\"]==\"Mexican\") & (recipes_df[\"rating\"]>=4.5) & (recipes_df[\"category\"]==\"Main\")].sort_values(\"rating\",ascending=False)[:3]\n"
   ]
  },
  {
   "cell_type": "code",
   "execution_count": 98,
   "metadata": {},
   "outputs": [],
   "source": [
    "recipes_df.to_csv(\"./cookieandkaterecipes.csv\")"
   ]
  }
 ],
 "metadata": {
  "kernelspec": {
   "display_name": "Python 3.7.4 64-bit ('hotdog': venv)",
   "language": "python",
   "name": "python37464bithotdogvenvffaa81c773f148fcb324ed959072ebf5"
  },
  "language_info": {
   "codemirror_mode": {
    "name": "ipython",
    "version": 3
   },
   "file_extension": ".py",
   "mimetype": "text/x-python",
   "name": "python",
   "nbconvert_exporter": "python",
   "pygments_lexer": "ipython3",
   "version": "3.7.4-final"
  }
 },
 "nbformat": 4,
 "nbformat_minor": 2
}