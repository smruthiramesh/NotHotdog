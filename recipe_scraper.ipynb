{
 "cells": [
  {
   "cell_type": "code",
   "execution_count": 50,
   "metadata": {},
   "outputs": [],
   "source": [
    "import urllib.request as req\n",
    "from bs4 import BeautifulSoup as soup\n",
    "import pandas as pd"
   ]
  },
  {
   "cell_type": "code",
   "execution_count": 3,
   "metadata": {},
   "outputs": [],
   "source": [
    "#using browser to scrape\n",
    "user_agent = 'Mozilla/5.0 (Windows; U; Windows NT 5.1; en-US; rv:1.9.0.7) Gecko/2009021910 Firefox/3.0.7'\n",
    "headers={'User-Agent':user_agent,} "
   ]
  },
  {
   "cell_type": "code",
   "execution_count": 8,
   "metadata": {},
   "outputs": [],
   "source": [
    "#url for main site\n",
    "main_url = \"https://cookieandkate.com/\"\n",
    "\n",
    "#getting main site page info\n",
    "request_main = req.Request(main_url, None, headers) #The assembled request\n",
    "response_main = req.urlopen(request_main)\n",
    "data_main = response_main.read()\n",
    "response_main.close()\n",
    "\n",
    "page_main = soup(data_main,\"html.parser\")"
   ]
  },
  {
   "cell_type": "code",
   "execution_count": 49,
   "metadata": {},
   "outputs": [],
   "source": [
    "#retrieving categories of recipes\n",
    "categories = pagemain.find(\"nav\",{\"id\":\"genesis-nav-primary\"}).ul.findAll(\"li\")[2].findAll(\"li\")\n",
    "category_links = []\n",
    "for category in categories:\n",
    "    category_links.append(category.a[\"href\"])"
   ]
  },
  {
   "cell_type": "code",
   "execution_count": 54,
   "metadata": {},
   "outputs": [],
   "source": [
    "#creating a list for all recipes\n",
    "recipe_links = []\n",
    "\n",
    "#looping through categories\n",
    "for category_url in category_links:\n",
    "    \n",
    "    #getting first page info for current category\n",
    "    category_request = req.Request(category_url, None, headers)\n",
    "    category_response = req.urlopen(category_request)\n",
    "    category_data = category_response.read()\n",
    "    category_response.close()\n",
    "\n",
    "    category_page = soup(category_data,\"html.parser\")\n",
    "    \n",
    "    while True:\n",
    "\n",
    "        #next page marker\n",
    "        next_marker = category_page.find(\"div\", {\"class\":\"pagination-next alignright\"})\n",
    "\n",
    "        #if there is a next page\n",
    "        if next_marker:\n",
    "\n",
    "            #get url for page\n",
    "            next_url = next_marker.a['href']\n",
    "\n",
    "            #read info from page\n",
    "            next_request = req.Request(next_url, None, headers)\n",
    "            next_response = req.urlopen(next_request)\n",
    "            next_data = next_response.read()\n",
    "            next_response.close()\n",
    "\n",
    "            #set category_page to new page\n",
    "            category_page = soup(next_data)\n",
    "\n",
    "            #collect all recipes from new page\n",
    "            recipes = category_page.findAll(\"div\",{\"class\":\"lcp_catlist_item\"})\n",
    "\n",
    "            #save their links\n",
    "            for recipe in recipes:\n",
    "                recipe_links.append(recipe.a[\"href\"])\n",
    "\n",
    "        #if there are no new pages\n",
    "        else:\n",
    "            break"
   ]
  },
  {
   "cell_type": "code",
   "execution_count": 74,
   "metadata": {},
   "outputs": [],
   "source": [
    "recipe_info = []\n",
    "\n",
    "#looping through recipe links\n",
    "for new_url in recipe_links:\n",
    "    \n",
    "    recipe_dict = {}\n",
    "    \n",
    "    #reading info from recipe page\n",
    "    new_request = urllib.request.Request(new_url,None,headers) #The assembled request\n",
    "    new_response = urllib.request.urlopen(new_request)\n",
    "    new_data = new_response.read()\n",
    "    new_response.close()\n",
    "    \n",
    "    recipe_page = soup(new_data,\"html.parser\")\n",
    "    \n",
    "    #getting objects that contain details and ratings\n",
    "    recipe_details = recipe_page.find(\"div\",{\"class\":\"tasty-recipes-details\"})\n",
    "    recipe_ratings = recipe_page.find(\"div\",{\"class\":\"tasty-recipes-ratings\"})\n",
    "    \n",
    "    #if details and ratings are available\n",
    "    if recipe_details and recipe_ratings:\n",
    "        #recipe name\n",
    "        recipe_dict[\"title\"] = recipe_page.h1.text\n",
    "\n",
    "        #recipe details - time, cuisine, category\n",
    "        try:\n",
    "            recipe_dict[\"time\"] = recipe_details.find(\"span\",{\"class\":\"tasty-recipes-total-time\"}).text\n",
    "            recipe_dict[\"cuisine\"] = recipe_details.find(\"span\",{\"class\":\"tasty-recipes-cuisine\"}).text\n",
    "            recipe_dict[\"category\"] = recipe_details.find(\"span\",{\"class\":\"tasty-recipes-category\"}).text\n",
    "        except:\n",
    "            recipe_dict[\"cuisine\"] = None\n",
    "            recipe_dict[\"category\"] = None\n",
    "\n",
    "        #recipe ratings\n",
    "        recipe_dict[\"rating\"] = recipe_ratings.find(\"span\",{\"class\":\"average\"}).text\n",
    "        \n",
    "        recipe_dict[\"url\"] = new_url\n",
    "\n",
    "        #adding dictionary of recipe info to list\n",
    "        recipe_info.append(recipe_dict)"
   ]
  },
  {
   "cell_type": "code",
   "execution_count": 78,
   "metadata": {},
   "outputs": [],
   "source": [
    "recipes_df = pd.DataFrame(recipe_info)\n",
    "recipes_df[\"rating\"] = recipes_df[\"rating\"].astype(\"float\")"
   ]
  },
  {
   "cell_type": "markdown",
   "metadata": {},
   "source": [
    "Recipes for a Mexican main dish with a rating of 4.5 stars or higher "
   ]
  },
  {
   "cell_type": "code",
   "execution_count": 85,
   "metadata": {
    "scrolled": true
   },
   "outputs": [
    {
     "data": {
      "text/html": [
       "<div>\n",
       "<style scoped>\n",
       "    .dataframe tbody tr th:only-of-type {\n",
       "        vertical-align: middle;\n",
       "    }\n",
       "\n",
       "    .dataframe tbody tr th {\n",
       "        vertical-align: top;\n",
       "    }\n",
       "\n",
       "    .dataframe thead th {\n",
       "        text-align: right;\n",
       "    }\n",
       "</style>\n",
       "<table border=\"1\" class=\"dataframe\">\n",
       "  <thead>\n",
       "    <tr style=\"text-align: right;\">\n",
       "      <th></th>\n",
       "      <th>title</th>\n",
       "      <th>time</th>\n",
       "      <th>cuisine</th>\n",
       "      <th>category</th>\n",
       "      <th>rating</th>\n",
       "      <th>url</th>\n",
       "    </tr>\n",
       "  </thead>\n",
       "  <tbody>\n",
       "    <tr>\n",
       "      <td>455</td>\n",
       "      <td>Fresh Arugula and Black Bean Tacos with Pickle...</td>\n",
       "      <td>30 minutes</td>\n",
       "      <td>Mexican</td>\n",
       "      <td>Main</td>\n",
       "      <td>5.0</td>\n",
       "      <td>https://cookieandkate.com/fresh-arugula-and-bl...</td>\n",
       "    </tr>\n",
       "    <tr>\n",
       "      <td>527</td>\n",
       "      <td>Chipotle-Glazed Delicata Squash</td>\n",
       "      <td>1 hour 15 minutes</td>\n",
       "      <td>Mexican</td>\n",
       "      <td>Main</td>\n",
       "      <td>5.0</td>\n",
       "      <td>https://cookieandkate.com/chipotle-glazed-squash/</td>\n",
       "    </tr>\n",
       "    <tr>\n",
       "      <td>58</td>\n",
       "      <td>Crispy Mushroom, Spinach and Avocado Quesadillas</td>\n",
       "      <td>20 minutes</td>\n",
       "      <td>Mexican</td>\n",
       "      <td>Main</td>\n",
       "      <td>4.9</td>\n",
       "      <td>https://cookieandkate.com/crispy-mushroom-spin...</td>\n",
       "    </tr>\n",
       "  </tbody>\n",
       "</table>\n",
       "</div>"
      ],
      "text/plain": [
       "                                                 title               time  \\\n",
       "455  Fresh Arugula and Black Bean Tacos with Pickle...         30 minutes   \n",
       "527                    Chipotle-Glazed Delicata Squash  1 hour 15 minutes   \n",
       "58    Crispy Mushroom, Spinach and Avocado Quesadillas         20 minutes   \n",
       "\n",
       "     cuisine category  rating  \\\n",
       "455  Mexican     Main     5.0   \n",
       "527  Mexican     Main     5.0   \n",
       "58   Mexican     Main     4.9   \n",
       "\n",
       "                                                   url  \n",
       "455  https://cookieandkate.com/fresh-arugula-and-bl...  \n",
       "527  https://cookieandkate.com/chipotle-glazed-squash/  \n",
       "58   https://cookieandkate.com/crispy-mushroom-spin...  "
      ]
     },
     "execution_count": 85,
     "metadata": {},
     "output_type": "execute_result"
    }
   ],
   "source": [
    "recipes_df[(recipes_df[\"cuisine\"]==\"Mexican\") & (recipes_df[\"rating\"]>=4.5) & (recipes_df[\"category\"]==\"Main\")].sort_values(\"rating\",ascending=False)[:3]\n"
   ]
  },
  {
   "cell_type": "code",
   "execution_count": 88,
   "metadata": {},
   "outputs": [],
   "source": [
    "recipes_df.to_csv(\"./cookieandkaterecipes.csv\")"
   ]
  },
  {
   "cell_type": "code",
   "execution_count": null,
   "metadata": {},
   "outputs": [],
   "source": []
  }
 ],
 "metadata": {
  "kernelspec": {
   "display_name": "Python 3",
   "language": "python",
   "name": "python3"
  },
  "language_info": {
   "codemirror_mode": {
    "name": "ipython",
    "version": 3
   },
   "file_extension": ".py",
   "mimetype": "text/x-python",
   "name": "python",
   "nbconvert_exporter": "python",
   "pygments_lexer": "ipython3",
   "version": "3.7.4"
  }
 },
 "nbformat": 4,
 "nbformat_minor": 2
}
